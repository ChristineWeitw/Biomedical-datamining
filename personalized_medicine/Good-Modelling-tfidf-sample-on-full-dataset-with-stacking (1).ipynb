{
 "cells": [
  {
   "cell_type": "code",
   "execution_count": 140,
   "metadata": {},
   "outputs": [
    {
     "name": "stderr",
     "output_type": "stream",
     "text": [
      "[nltk_data] Downloading package stopwords to\n",
      "[nltk_data]     C:\\Users\\scojo\\AppData\\Roaming\\nltk_data...\n",
      "[nltk_data]   Package stopwords is already up-to-date!\n",
      "[nltk_data] Downloading package punkt to\n",
      "[nltk_data]     C:\\Users\\scojo\\AppData\\Roaming\\nltk_data...\n",
      "[nltk_data]   Package punkt is already up-to-date!\n"
     ]
    }
   ],
   "source": [
    "import pandas as pd\n",
    "import re\n",
    "import string\n",
    "import numpy as np\n",
    "import matplotlib.pyplot as plt\n",
    "import sklearn as skl\n",
    "import scikitplot.plotters as skplt\n",
    "import nltk\n",
    "import seaborn as sns\n",
    "import scipy\n",
    "import nltk\n",
    "\n",
    "from nltk.stem.porter import *  \n",
    "nltk.download(\"stopwords\")\n",
    "nltk.download('punkt')\n",
    "from nltk.corpus import stopwords\n",
    "%matplotlib inline\n",
    "from sklearn.model_selection import cross_val_predict\n",
    "from sklearn.model_selection import StratifiedKFold\n",
    "from sklearn.model_selection import train_test_split\n",
    "from sklearn.linear_model import LogisticRegression\n",
    "from sklearn.metrics import log_loss, accuracy_score\n",
    "from sklearn.feature_extraction.text import CountVectorizer\n",
    "from sklearn.feature_extraction.text import TfidfVectorizer\n",
    "from sklearn.svm import SVC\n",
    "from sklearn.decomposition import TruncatedSVD\n",
    "from sklearn.ensemble import RandomForestClassifier\n",
    "from sklearn.preprocessing import LabelEncoder"
   ]
  },
  {
   "cell_type": "code",
   "execution_count": 141,
   "metadata": {},
   "outputs": [],
   "source": [
    " def var_clean(var_file)  :\n",
    "    tr_var = pd.read_csv(var_file)\n",
    "    tr_vardf = pd.DataFrame(tr_var)\n",
    "    tr_vardf['Variation'] = tr_vardf['Variation'].str.upper()    \n",
    "    \n",
    "\n",
    "    tr_vardf['Mutations'] = np.where(tr_vardf['Variation'].str.contains('DELINS'),'Del/Ins',\n",
    "                            np.where(tr_vardf['Variation'].str.contains('DEL'),'Deletion',\n",
    "                            np.where(tr_vardf['Variation'].str.contains('INS'),'Insertion',\n",
    "                            np.where(tr_vardf['Variation'].str.contains('EXON'),'Exon Mutations',\n",
    "                            np.where(tr_vardf['Variation'].str.contains('PROM'),'Promotor Mutation',\n",
    "                            np.where(tr_vardf['Variation'].str.contains('FS'),'Frameshift',\n",
    "                            np.where(tr_vardf['Variation'].str.contains('FUS'),'Fusion',\n",
    "                            np.where(tr_vardf['Variation'].str.contains('AMPL'),'Amplification',\n",
    "                            np.where(tr_vardf['Variation'].str.contains('SPLI'),'Splice',\n",
    "                            np.where(tr_vardf['Variation'].str.contains('OVEREXPRE'),'Overexpression',\n",
    "                            np.where(tr_vardf['Variation'].str.contains('DU'),'Duplication',\n",
    "                            np.where(tr_vardf['Variation'].str.contains('COPY'),'Copy Number',\n",
    "                            np.where(tr_vardf['Variation'].str.contains('HYPERM'),'Hypermethylation',\n",
    "                            np.where(tr_vardf['Variation'].str.contains('TRUN'),'Truncation','Other')))))))))))))) \n",
    "    \n",
    "#     creates snp location column\n",
    "    tr_vardf['SNP location'] = np.where(tr_vardf['Mutations']=='Other',tr_vardf['Variation'].str[1:-1], np.nan)\n",
    "#  if location is not numer ic it becomes NaN\n",
    "    tr_vardf['SNP location'] = pd.to_numeric(tr_vardf['SNP location'], errors = 'coerce', downcast = 'integer')\n",
    "\n",
    "#  if snp location is not null and mutation = other, start aa is created and spliced from variation\n",
    "    tr_vardf['Start aa'] = np.where(np.logical_and(tr_vardf['Mutations']=='Other',tr_vardf['SNP location'].notnull()) ,tr_vardf['Variation'].str[0:1], np.nan)\n",
    "#  if snp location is not null and mutation = other, start aa is created and spliced from variation   \n",
    "    tr_vardf['End aa'] = np.where(np.logical_and(tr_vardf['Mutations']=='Other',tr_vardf['SNP location'].notnull()),tr_vardf['Variation'].str[-1:],np.nan)\n",
    "    \n",
    "    # if there is an snp location for an other mutation it is set to SNP    \n",
    "    tr_vardf['Mutations'] = np.where(np.logical_and(tr_vardf['Mutations']=='Other', tr_vardf['SNP location'].notnull()), 'SNP', tr_vardf['Mutations'])\n",
    "# if the SNP mutation end in a stop codon * it is a nonsense mutation\n",
    "    tr_vardf['Mutations'] = np.where(np.logical_and(tr_vardf['Mutations']=='SNP', tr_vardf['End aa']=='*'), 'Nonsense', tr_vardf['Mutations'])\n",
    "        \n",
    "    bins = [0,250, 500,750,1000,1250,1500,1750,2000,2250,2500,2750,3000,3250,3500,3750,4000,4250,4500]\n",
    "    tr_vardf['SNP bins'] = pd.cut(tr_vardf['SNP location'], bins)\n",
    "    del tr_vardf['SNP location']\n",
    "                                     \n",
    "    del tr_vardf['Variation']\n",
    "    return tr_vardf\n"
   ]
  },
  {
   "cell_type": "code",
   "execution_count": 142,
   "metadata": {},
   "outputs": [],
   "source": [
    "def text_open(text_file):\n",
    "    tr_text = pd.read_csv(text_file, sep= '\\|\\|', engine = 'python', header = None, skiprows =1, encoding = 'utf8', names = ['ID', 'Text'])\n",
    "    tr_textdf = pd.DataFrame(tr_text)\n",
    "    tr_textdf['Driver'] =np.where(tr_textdf['Text'].str.lower().str.contains('drive'), 1, 0)\n",
    "    tr_textdf['Passenger'] =np.where(tr_textdf['Text'].str.lower().str.contains('passeng'), 1, 0)\n",
    "    tr_textdf['Driver/Passenger'] = np.where(np.logical_and(tr_textdf['Driver']==1, tr_textdf['Passenger']==1), 1, 0)\n",
    "    return tr_textdf"
   ]
  },
  {
   "cell_type": "code",
   "execution_count": 143,
   "metadata": {},
   "outputs": [],
   "source": [
    "def text_var(var_file, text_file):\n",
    "    text_var = pd.merge(var_file, text_file, on= 'ID', how = 'left').dropna(subset =['Text'])\n",
    "    return text_var"
   ]
  },
  {
   "cell_type": "code",
   "execution_count": 144,
   "metadata": {},
   "outputs": [],
   "source": [
    "def remove_dups(df):\n",
    "    nodups = df.drop_duplicates(subset =['Gene', 'Class', 'Mutations', 'SNP bins','Start aa', 'End aa', 'Text'], keep = 'first')\n",
    "    return nodups"
   ]
  },
  {
   "cell_type": "code",
   "execution_count": 145,
   "metadata": {},
   "outputs": [],
   "source": [
    "def main():\n",
    "    test_v = var_clean('./test_variants')\n",
    "    train_v = var_clean('./training_variants')\n",
    "    test_t = text_open('./test_text')\n",
    "    train_t = text_open('./training_text')\n",
    "    valid_t = text_open('./testing_text.txt')\n",
    "    valid_v = var_clean('./testing_variants.txt')\n",
    "    \n",
    "\n",
    "# merge datasets into taining and validation files, remove rows with missing values\n",
    "    train = remove_dups(text_var(train_v, train_t))\n",
    "    \n",
    "    test = text_var(test_v, test_t)\n",
    "    valid = remove_dups(text_var(valid_v, valid_t))\n",
    "    \n",
    "#     train['Driver'] =np.where(train['Text'].str.lower().str.contains('drive'), 1, 0)\n",
    "#     train['Passenger'] =np.where(train['Text'].str.lower().str.contains('passeng'), 1, 0)\n",
    "    return train, valid, test"
   ]
  },
  {
   "cell_type": "code",
   "execution_count": 146,
   "metadata": {},
   "outputs": [],
   "source": [
    "train, valid, test = main()"
   ]
  },
  {
   "cell_type": "code",
   "execution_count": 147,
   "metadata": {},
   "outputs": [],
   "source": [
    "\n",
    "import string\n",
    "import spacy\n",
    "from spacy.lang.en.stop_words import STOP_WORDS\n",
    "from spacy.lang.en import English\n",
    "# Create our list of punctuation marks\n",
    "punctuations = string.punctuation\n",
    "\n",
    "# Create our list of stopwords\n",
    "stop_words = spacy.lang.en.stop_words.STOP_WORDS\n",
    "stemmer=PorterStemmer()\n",
    "stopWords = [\"fig\", \"figure\", \"et\", \"al\", \"table\",  \n",
    "        \"data\", \"analysis\", \"analyze\", \"study\",  \n",
    "        \"method\", \"result\", \"conclusion\", \"author\", \"mutation\" ,\n",
    "        \"thus\", \"therefore\", \"fig\", \"figure\", \"page\",\n",
    "        \"find\", \"found\", \"show\", \"perform\",  \"cell\", \"cells\"\n",
    "        \"demonstrate\", \"evaluate\", \"discuss\", \"google\", \"scholar\",   \n",
    "        \"pubmed\",  \"web\", \"science\", \"crossref\", \"supplementary\", \"...\"] \n",
    "# stopWords = [stemmer.stem(word) for word in stopWords]\n",
    "\n",
    "stop_words_new = stop_words.union(stopWords)\n",
    "\n",
    "# token_pattern =r'(?u)\\b\\w\\w\\w\\w+\\b'\n",
    "\n",
    "# Load English tokenizer, tagger, parser, NER and word vectors\n",
    "parser = English()\n"
   ]
  },
  {
   "cell_type": "code",
   "execution_count": 148,
   "metadata": {},
   "outputs": [],
   "source": [
    "# Creating our tokenizer function\n",
    "def spacy_tokenizer(sentence):\n",
    "    # Creating our token object, which is used to create documents with linguistic annotations.\n",
    "    mytokens = parser(sentence)\n",
    "#     mytokens = nltk.word_tokenize(sentence)\n",
    "    \n",
    "\n",
    "    \n",
    "    # Lemmatizing each token and converting each token into lowercase\n",
    "    mytokens = [ word.lemma_.lower().strip() if word.lemma_ != \"-PRON-\" else word.lower_ for word in mytokens ]\n",
    "    \n",
    "    \n",
    "#     mytokens = [stemmer.stem(str(word)) for word in mytokens ]\n",
    "   \n",
    "    # Removing stop words\n",
    "    mytokens = [ word for word in mytokens if word not in stop_words_new and word not in punctuations ]\n",
    "    \n",
    "    # Removing words less then 3 characters and numbers only tokens\n",
    "    mytokens =[word for word in mytokens if len(word)>3 and bool(re.match(r\"[0-9]{3,}\", word)) is False]\n",
    "    \n",
    "    # return preprocessed list of tokens\n",
    "    return mytokens"
   ]
  },
  {
   "cell_type": "code",
   "execution_count": 149,
   "metadata": {},
   "outputs": [],
   "source": [
    "v = TfidfVectorizer(tokenizer = spacy_tokenizer, max_features = 1000)\n",
    "\n",
    "\n",
    "xtfidf = v.fit_transform(train['Text'])\n",
    "xtfidffeat = v.get_feature_names()"
   ]
  },
  {
   "cell_type": "markdown",
   "metadata": {},
   "source": [
    "# Clean up data and select features"
   ]
  },
  {
   "cell_type": "code",
   "execution_count": 150,
   "metadata": {},
   "outputs": [],
   "source": [
    "# convert tfidf back to dataframe\n",
    "tfidf = pd.DataFrame(xtfidf.toarray(), columns=v.get_feature_names())"
   ]
  },
  {
   "cell_type": "code",
   "execution_count": 151,
   "metadata": {},
   "outputs": [],
   "source": [
    "# remove test column\n",
    "train2= train.drop('Text', axis = 1)\n",
    "\n",
    "# remove outliers\n",
    "train2 = train2.drop(train2[train2['End aa'] =='7'].index)\n",
    "train2 = train2.drop(train2[train2['End aa'] =='5'].index)\n"
   ]
  },
  {
   "cell_type": "code",
   "execution_count": 152,
   "metadata": {},
   "outputs": [],
   "source": [
    "# get dummy values for categorical data\n",
    "train3= pd.get_dummies(train2, columns = ['Start aa', 'End aa', 'Mutations'])"
   ]
  },
  {
   "cell_type": "code",
   "execution_count": 153,
   "metadata": {},
   "outputs": [
    {
     "data": {
      "text/html": [
       "<div>\n",
       "<style scoped>\n",
       "    .dataframe tbody tr th:only-of-type {\n",
       "        vertical-align: middle;\n",
       "    }\n",
       "\n",
       "    .dataframe tbody tr th {\n",
       "        vertical-align: top;\n",
       "    }\n",
       "\n",
       "    .dataframe thead th {\n",
       "        text-align: right;\n",
       "    }\n",
       "</style>\n",
       "<table border=\"1\" class=\"dataframe\">\n",
       "  <thead>\n",
       "    <tr style=\"text-align: right;\">\n",
       "      <th></th>\n",
       "      <th>ID</th>\n",
       "      <th>Gene</th>\n",
       "      <th>Class</th>\n",
       "      <th>SNP bins</th>\n",
       "      <th>Driver</th>\n",
       "      <th>Passenger</th>\n",
       "      <th>Driver/Passenger</th>\n",
       "      <th>Start aa_A</th>\n",
       "      <th>Start aa_C</th>\n",
       "      <th>Start aa_D</th>\n",
       "      <th>...</th>\n",
       "      <th>weak</th>\n",
       "      <th>week</th>\n",
       "      <th>western</th>\n",
       "      <th>wide</th>\n",
       "      <th>wild</th>\n",
       "      <th>woman</th>\n",
       "      <th>work</th>\n",
       "      <th>xenograft</th>\n",
       "      <th>year</th>\n",
       "      <th>yeast</th>\n",
       "    </tr>\n",
       "  </thead>\n",
       "  <tbody>\n",
       "    <tr>\n",
       "      <th>0</th>\n",
       "      <td>0</td>\n",
       "      <td>FAM58A</td>\n",
       "      <td>1</td>\n",
       "      <td>NaN</td>\n",
       "      <td>1</td>\n",
       "      <td>0</td>\n",
       "      <td>0</td>\n",
       "      <td>0</td>\n",
       "      <td>0</td>\n",
       "      <td>0</td>\n",
       "      <td>...</td>\n",
       "      <td>0.005318</td>\n",
       "      <td>0.0</td>\n",
       "      <td>0.069134</td>\n",
       "      <td>0.004810</td>\n",
       "      <td>0.008914</td>\n",
       "      <td>0.000000</td>\n",
       "      <td>0.008847</td>\n",
       "      <td>0.0</td>\n",
       "      <td>0.000000</td>\n",
       "      <td>0.019206</td>\n",
       "    </tr>\n",
       "    <tr>\n",
       "      <th>1</th>\n",
       "      <td>1</td>\n",
       "      <td>CBL</td>\n",
       "      <td>2</td>\n",
       "      <td>(750.0, 1000.0]</td>\n",
       "      <td>0</td>\n",
       "      <td>0</td>\n",
       "      <td>0</td>\n",
       "      <td>0</td>\n",
       "      <td>0</td>\n",
       "      <td>0</td>\n",
       "      <td>...</td>\n",
       "      <td>0.000000</td>\n",
       "      <td>0.0</td>\n",
       "      <td>0.013016</td>\n",
       "      <td>0.000000</td>\n",
       "      <td>0.033288</td>\n",
       "      <td>0.019767</td>\n",
       "      <td>0.007079</td>\n",
       "      <td>0.0</td>\n",
       "      <td>0.021855</td>\n",
       "      <td>0.000000</td>\n",
       "    </tr>\n",
       "    <tr>\n",
       "      <th>2</th>\n",
       "      <td>2</td>\n",
       "      <td>CBL</td>\n",
       "      <td>2</td>\n",
       "      <td>(0.0, 250.0]</td>\n",
       "      <td>0</td>\n",
       "      <td>0</td>\n",
       "      <td>0</td>\n",
       "      <td>0</td>\n",
       "      <td>0</td>\n",
       "      <td>0</td>\n",
       "      <td>...</td>\n",
       "      <td>0.000000</td>\n",
       "      <td>0.0</td>\n",
       "      <td>0.013016</td>\n",
       "      <td>0.000000</td>\n",
       "      <td>0.033288</td>\n",
       "      <td>0.019767</td>\n",
       "      <td>0.007079</td>\n",
       "      <td>0.0</td>\n",
       "      <td>0.021855</td>\n",
       "      <td>0.000000</td>\n",
       "    </tr>\n",
       "    <tr>\n",
       "      <th>3</th>\n",
       "      <td>3</td>\n",
       "      <td>CBL</td>\n",
       "      <td>3</td>\n",
       "      <td>(250.0, 500.0]</td>\n",
       "      <td>1</td>\n",
       "      <td>1</td>\n",
       "      <td>1</td>\n",
       "      <td>0</td>\n",
       "      <td>0</td>\n",
       "      <td>0</td>\n",
       "      <td>...</td>\n",
       "      <td>0.000000</td>\n",
       "      <td>0.0</td>\n",
       "      <td>0.000000</td>\n",
       "      <td>0.016726</td>\n",
       "      <td>0.082659</td>\n",
       "      <td>0.000000</td>\n",
       "      <td>0.000000</td>\n",
       "      <td>0.0</td>\n",
       "      <td>0.015828</td>\n",
       "      <td>0.000000</td>\n",
       "    </tr>\n",
       "    <tr>\n",
       "      <th>4</th>\n",
       "      <td>4</td>\n",
       "      <td>CBL</td>\n",
       "      <td>4</td>\n",
       "      <td>(250.0, 500.0]</td>\n",
       "      <td>1</td>\n",
       "      <td>1</td>\n",
       "      <td>1</td>\n",
       "      <td>0</td>\n",
       "      <td>0</td>\n",
       "      <td>0</td>\n",
       "      <td>...</td>\n",
       "      <td>0.015131</td>\n",
       "      <td>0.0</td>\n",
       "      <td>0.000000</td>\n",
       "      <td>0.006844</td>\n",
       "      <td>0.084551</td>\n",
       "      <td>0.000000</td>\n",
       "      <td>0.006294</td>\n",
       "      <td>0.0</td>\n",
       "      <td>0.006476</td>\n",
       "      <td>0.000000</td>\n",
       "    </tr>\n",
       "  </tbody>\n",
       "</table>\n",
       "<p>5 rows × 1065 columns</p>\n",
       "</div>"
      ],
      "text/plain": [
       "   ID    Gene  Class         SNP bins  Driver  Passenger  Driver/Passenger  \\\n",
       "0   0  FAM58A      1              NaN       1          0                 0   \n",
       "1   1     CBL      2  (750.0, 1000.0]       0          0                 0   \n",
       "2   2     CBL      2     (0.0, 250.0]       0          0                 0   \n",
       "3   3     CBL      3   (250.0, 500.0]       1          1                 1   \n",
       "4   4     CBL      4   (250.0, 500.0]       1          1                 1   \n",
       "\n",
       "   Start aa_A  Start aa_C  Start aa_D  ...      weak  week   western  \\\n",
       "0           0           0           0  ...  0.005318   0.0  0.069134   \n",
       "1           0           0           0  ...  0.000000   0.0  0.013016   \n",
       "2           0           0           0  ...  0.000000   0.0  0.013016   \n",
       "3           0           0           0  ...  0.000000   0.0  0.000000   \n",
       "4           0           0           0  ...  0.015131   0.0  0.000000   \n",
       "\n",
       "       wide      wild     woman      work  xenograft      year     yeast  \n",
       "0  0.004810  0.008914  0.000000  0.008847        0.0  0.000000  0.019206  \n",
       "1  0.000000  0.033288  0.019767  0.007079        0.0  0.021855  0.000000  \n",
       "2  0.000000  0.033288  0.019767  0.007079        0.0  0.021855  0.000000  \n",
       "3  0.016726  0.082659  0.000000  0.000000        0.0  0.015828  0.000000  \n",
       "4  0.006844  0.084551  0.000000  0.006294        0.0  0.006476  0.000000  \n",
       "\n",
       "[5 rows x 1065 columns]"
      ]
     },
     "execution_count": 153,
     "metadata": {},
     "output_type": "execute_result"
    }
   ],
   "source": [
    "# combine training set with tfidf set\n",
    "traindf = pd.merge(train3, tfidf, left_index = True, right_index = True)\n",
    "traindf.head()"
   ]
  },
  {
   "cell_type": "code",
   "execution_count": 154,
   "metadata": {},
   "outputs": [],
   "source": [
    "# y values\n",
    "ytrain = traindf['Class']"
   ]
  },
  {
   "cell_type": "code",
   "execution_count": 155,
   "metadata": {},
   "outputs": [],
   "source": [
    "# split training data set into testing(33%) and training sets(67%)\n",
    "X_Train, X_Test, y_Train, y_Test = train_test_split(traindf, ytrain, test_size=0.33, random_state=42)"
   ]
  },
  {
   "cell_type": "code",
   "execution_count": 156,
   "metadata": {},
   "outputs": [],
   "source": [
    "# upsample training to balance classes\n",
    "from imblearn.over_sampling import RandomOverSampler\n",
    "sm = RandomOverSampler()\n",
    "X_train, y_train = sm.fit_sample(X_Train, y_Train)"
   ]
  },
  {
   "cell_type": "code",
   "execution_count": 157,
   "metadata": {},
   "outputs": [],
   "source": [
    "#  upsample testing to balance classes\n",
    "from imblearn.over_sampling import RandomOverSampler\n",
    "sm = RandomOverSampler()\n",
    "X_test, y_test = sm.fit_sample(X_Test, y_Test)"
   ]
  },
  {
   "cell_type": "code",
   "execution_count": 158,
   "metadata": {},
   "outputs": [],
   "source": [
    "# convert to dataframe\n",
    "traincol= list(traindf.columns)\n",
    "X_test = pd.DataFrame(X_test, columns = traincol)\n",
    "y_test = pd.DataFrame(y_test)\n",
    "X_train = pd.DataFrame(X_train, columns = traincol)\n",
    "y_train = pd.DataFrame(y_train)"
   ]
  },
  {
   "cell_type": "code",
   "execution_count": null,
   "metadata": {},
   "outputs": [],
   "source": []
  },
  {
   "cell_type": "code",
   "execution_count": 159,
   "metadata": {},
   "outputs": [
    {
     "data": {
      "image/png": "[encoded data removed]",
      "text/plain": [
       "<Figure size 1440x720 with 2 Axes>"
      ]
     },
     "metadata": {
      "needs_background": "light"
     },
     "output_type": "display_data"
    }
   ],
   "source": [
    "# plot balanced datasets\n",
    "plt.figure(figsize=(20,10))\n",
    "\n",
    "plt.subplot(1,2,1)\n",
    "sns.countplot(x=\"Class\", data=X_train)\n",
    "plt.ylabel('Counts', fontsize=13)\n",
    "plt.xlabel('Classes', fontsize=13)\n",
    "plt.title(\"Balanced Classes\", fontsize=18)\n",
    "plt.tight_layout\n",
    "\n",
    "plt.subplot(1,2,2)\n",
    "sns.countplot(x=\"Class\", data=X_test)\n",
    "plt.ylabel('Counts', fontsize=13)\n",
    "plt.xlabel('Classes', fontsize=13)\n",
    "plt.title(\"Balanced Classes\", fontsize=18)\n",
    "plt.tight_layout\n",
    "plt.show()"
   ]
  },
  {
   "cell_type": "code",
   "execution_count": 160,
   "metadata": {},
   "outputs": [],
   "source": [
    "# select features by removing gene, snp bins, passenger, driver/passenger columns\n",
    "X_test = X_test.drop(axis = 1, columns =['Gene','SNP bins', 'Passenger','Driver/Passenger'])"
   ]
  },
  {
   "cell_type": "code",
   "execution_count": 161,
   "metadata": {},
   "outputs": [
    {
     "data": {
      "text/html": [
       "<div>\n",
       "<style scoped>\n",
       "    .dataframe tbody tr th:only-of-type {\n",
       "        vertical-align: middle;\n",
       "    }\n",
       "\n",
       "    .dataframe tbody tr th {\n",
       "        vertical-align: top;\n",
       "    }\n",
       "\n",
       "    .dataframe thead th {\n",
       "        text-align: right;\n",
       "    }\n",
       "</style>\n",
       "<table border=\"1\" class=\"dataframe\">\n",
       "  <thead>\n",
       "    <tr style=\"text-align: right;\">\n",
       "      <th></th>\n",
       "      <th>ID</th>\n",
       "      <th>Class</th>\n",
       "      <th>Driver</th>\n",
       "      <th>Start aa_A</th>\n",
       "      <th>Start aa_C</th>\n",
       "      <th>Start aa_D</th>\n",
       "      <th>Start aa_E</th>\n",
       "      <th>Start aa_F</th>\n",
       "      <th>Start aa_G</th>\n",
       "      <th>Start aa_H</th>\n",
       "      <th>...</th>\n",
       "      <th>weak</th>\n",
       "      <th>week</th>\n",
       "      <th>western</th>\n",
       "      <th>wide</th>\n",
       "      <th>wild</th>\n",
       "      <th>woman</th>\n",
       "      <th>work</th>\n",
       "      <th>xenograft</th>\n",
       "      <th>year</th>\n",
       "      <th>yeast</th>\n",
       "    </tr>\n",
       "  </thead>\n",
       "  <tbody>\n",
       "    <tr>\n",
       "      <th>0</th>\n",
       "      <td>63</td>\n",
       "      <td>4</td>\n",
       "      <td>0</td>\n",
       "      <td>0</td>\n",
       "      <td>0</td>\n",
       "      <td>0</td>\n",
       "      <td>0</td>\n",
       "      <td>0</td>\n",
       "      <td>0</td>\n",
       "      <td>0</td>\n",
       "      <td>...</td>\n",
       "      <td>0</td>\n",
       "      <td>0</td>\n",
       "      <td>0</td>\n",
       "      <td>0</td>\n",
       "      <td>0.287461</td>\n",
       "      <td>0</td>\n",
       "      <td>0</td>\n",
       "      <td>0</td>\n",
       "      <td>0</td>\n",
       "      <td>0</td>\n",
       "    </tr>\n",
       "    <tr>\n",
       "      <th>1</th>\n",
       "      <td>2885</td>\n",
       "      <td>6</td>\n",
       "      <td>0</td>\n",
       "      <td>0</td>\n",
       "      <td>0</td>\n",
       "      <td>0</td>\n",
       "      <td>0</td>\n",
       "      <td>0</td>\n",
       "      <td>1</td>\n",
       "      <td>0</td>\n",
       "      <td>...</td>\n",
       "      <td>0.020228</td>\n",
       "      <td>0</td>\n",
       "      <td>0.0168758</td>\n",
       "      <td>0.00332687</td>\n",
       "      <td>0.0297992</td>\n",
       "      <td>0.00854245</td>\n",
       "      <td>0.010708</td>\n",
       "      <td>0</td>\n",
       "      <td>0.0377791</td>\n",
       "      <td>0</td>\n",
       "    </tr>\n",
       "    <tr>\n",
       "      <th>2</th>\n",
       "      <td>2098</td>\n",
       "      <td>4</td>\n",
       "      <td>0</td>\n",
       "      <td>0</td>\n",
       "      <td>0</td>\n",
       "      <td>0</td>\n",
       "      <td>0</td>\n",
       "      <td>0</td>\n",
       "      <td>0</td>\n",
       "      <td>0</td>\n",
       "      <td>...</td>\n",
       "      <td>0</td>\n",
       "      <td>0</td>\n",
       "      <td>0</td>\n",
       "      <td>0</td>\n",
       "      <td>0.0153234</td>\n",
       "      <td>0</td>\n",
       "      <td>0</td>\n",
       "      <td>0</td>\n",
       "      <td>0.0293426</td>\n",
       "      <td>0.115553</td>\n",
       "    </tr>\n",
       "    <tr>\n",
       "      <th>3</th>\n",
       "      <td>348</td>\n",
       "      <td>4</td>\n",
       "      <td>0</td>\n",
       "      <td>0</td>\n",
       "      <td>0</td>\n",
       "      <td>0</td>\n",
       "      <td>0</td>\n",
       "      <td>0</td>\n",
       "      <td>0</td>\n",
       "      <td>0</td>\n",
       "      <td>...</td>\n",
       "      <td>0</td>\n",
       "      <td>0</td>\n",
       "      <td>0</td>\n",
       "      <td>0</td>\n",
       "      <td>0.0407918</td>\n",
       "      <td>0</td>\n",
       "      <td>0.00759074</td>\n",
       "      <td>0</td>\n",
       "      <td>0.0937341</td>\n",
       "      <td>0</td>\n",
       "    </tr>\n",
       "    <tr>\n",
       "      <th>4</th>\n",
       "      <td>2848</td>\n",
       "      <td>6</td>\n",
       "      <td>0</td>\n",
       "      <td>0</td>\n",
       "      <td>0</td>\n",
       "      <td>0</td>\n",
       "      <td>0</td>\n",
       "      <td>0</td>\n",
       "      <td>0</td>\n",
       "      <td>0</td>\n",
       "      <td>...</td>\n",
       "      <td>0</td>\n",
       "      <td>0.0133253</td>\n",
       "      <td>0.0048694</td>\n",
       "      <td>0.0115194</td>\n",
       "      <td>0.00355795</td>\n",
       "      <td>0</td>\n",
       "      <td>0</td>\n",
       "      <td>0</td>\n",
       "      <td>0.0109009</td>\n",
       "      <td>0</td>\n",
       "    </tr>\n",
       "  </tbody>\n",
       "</table>\n",
       "<p>5 rows × 1061 columns</p>\n",
       "</div>"
      ],
      "text/plain": [
       "     ID Class Driver Start aa_A Start aa_C Start aa_D Start aa_E Start aa_F  \\\n",
       "0    63     4      0          0          0          0          0          0   \n",
       "1  2885     6      0          0          0          0          0          0   \n",
       "2  2098     4      0          0          0          0          0          0   \n",
       "3   348     4      0          0          0          0          0          0   \n",
       "4  2848     6      0          0          0          0          0          0   \n",
       "\n",
       "  Start aa_G Start aa_H  ...      weak       week    western        wide  \\\n",
       "0          0          0  ...         0          0          0           0   \n",
       "1          1          0  ...  0.020228          0  0.0168758  0.00332687   \n",
       "2          0          0  ...         0          0          0           0   \n",
       "3          0          0  ...         0          0          0           0   \n",
       "4          0          0  ...         0  0.0133253  0.0048694   0.0115194   \n",
       "\n",
       "         wild       woman        work xenograft       year     yeast  \n",
       "0    0.287461           0           0         0          0         0  \n",
       "1   0.0297992  0.00854245    0.010708         0  0.0377791         0  \n",
       "2   0.0153234           0           0         0  0.0293426  0.115553  \n",
       "3   0.0407918           0  0.00759074         0  0.0937341         0  \n",
       "4  0.00355795           0           0         0  0.0109009         0  \n",
       "\n",
       "[5 rows x 1061 columns]"
      ]
     },
     "execution_count": 161,
     "metadata": {},
     "output_type": "execute_result"
    }
   ],
   "source": [
    "X_test.head()"
   ]
  },
  {
   "cell_type": "code",
   "execution_count": 162,
   "metadata": {},
   "outputs": [],
   "source": [
    "# select features by removing gene, snp bins, passenger, driver/passenger columns\n",
    "X_train = X_train.drop(axis = 1, columns =['Gene','SNP bins',  'Passenger','Driver/Passenger'])"
   ]
  },
  {
   "cell_type": "code",
   "execution_count": 163,
   "metadata": {},
   "outputs": [
    {
     "data": {
      "text/html": [
       "<div>\n",
       "<style scoped>\n",
       "    .dataframe tbody tr th:only-of-type {\n",
       "        vertical-align: middle;\n",
       "    }\n",
       "\n",
       "    .dataframe tbody tr th {\n",
       "        vertical-align: top;\n",
       "    }\n",
       "\n",
       "    .dataframe thead th {\n",
       "        text-align: right;\n",
       "    }\n",
       "</style>\n",
       "<table border=\"1\" class=\"dataframe\">\n",
       "  <thead>\n",
       "    <tr style=\"text-align: right;\">\n",
       "      <th></th>\n",
       "      <th>ID</th>\n",
       "      <th>Class</th>\n",
       "      <th>Driver</th>\n",
       "      <th>Start aa_A</th>\n",
       "      <th>Start aa_C</th>\n",
       "      <th>Start aa_D</th>\n",
       "      <th>Start aa_E</th>\n",
       "      <th>Start aa_F</th>\n",
       "      <th>Start aa_G</th>\n",
       "      <th>Start aa_H</th>\n",
       "      <th>...</th>\n",
       "      <th>weak</th>\n",
       "      <th>week</th>\n",
       "      <th>western</th>\n",
       "      <th>wide</th>\n",
       "      <th>wild</th>\n",
       "      <th>woman</th>\n",
       "      <th>work</th>\n",
       "      <th>xenograft</th>\n",
       "      <th>year</th>\n",
       "      <th>yeast</th>\n",
       "    </tr>\n",
       "  </thead>\n",
       "  <tbody>\n",
       "    <tr>\n",
       "      <th>0</th>\n",
       "      <td>1713</td>\n",
       "      <td>4</td>\n",
       "      <td>1</td>\n",
       "      <td>0</td>\n",
       "      <td>0</td>\n",
       "      <td>0</td>\n",
       "      <td>0</td>\n",
       "      <td>1</td>\n",
       "      <td>0</td>\n",
       "      <td>0</td>\n",
       "      <td>...</td>\n",
       "      <td>0</td>\n",
       "      <td>0</td>\n",
       "      <td>0.0511493</td>\n",
       "      <td>0.0100835</td>\n",
       "      <td>0.193097</td>\n",
       "      <td>0</td>\n",
       "      <td>0</td>\n",
       "      <td>0</td>\n",
       "      <td>0</td>\n",
       "      <td>0</td>\n",
       "    </tr>\n",
       "    <tr>\n",
       "      <th>1</th>\n",
       "      <td>891</td>\n",
       "      <td>3</td>\n",
       "      <td>1</td>\n",
       "      <td>0</td>\n",
       "      <td>0</td>\n",
       "      <td>0</td>\n",
       "      <td>0</td>\n",
       "      <td>0</td>\n",
       "      <td>1</td>\n",
       "      <td>0</td>\n",
       "      <td>...</td>\n",
       "      <td>0.00794447</td>\n",
       "      <td>0</td>\n",
       "      <td>0.0212645</td>\n",
       "      <td>0</td>\n",
       "      <td>0.00221964</td>\n",
       "      <td>0.00461315</td>\n",
       "      <td>0</td>\n",
       "      <td>0</td>\n",
       "      <td>0.00680057</td>\n",
       "      <td>0</td>\n",
       "    </tr>\n",
       "    <tr>\n",
       "      <th>2</th>\n",
       "      <td>2160</td>\n",
       "      <td>4</td>\n",
       "      <td>0</td>\n",
       "      <td>0</td>\n",
       "      <td>0</td>\n",
       "      <td>0</td>\n",
       "      <td>0</td>\n",
       "      <td>0</td>\n",
       "      <td>0</td>\n",
       "      <td>0</td>\n",
       "      <td>...</td>\n",
       "      <td>0</td>\n",
       "      <td>0.00536207</td>\n",
       "      <td>0.00391889</td>\n",
       "      <td>0</td>\n",
       "      <td>0.0372246</td>\n",
       "      <td>0</td>\n",
       "      <td>0</td>\n",
       "      <td>0</td>\n",
       "      <td>0</td>\n",
       "      <td>0</td>\n",
       "    </tr>\n",
       "    <tr>\n",
       "      <th>3</th>\n",
       "      <td>167</td>\n",
       "      <td>7</td>\n",
       "      <td>0</td>\n",
       "      <td>1</td>\n",
       "      <td>0</td>\n",
       "      <td>0</td>\n",
       "      <td>0</td>\n",
       "      <td>0</td>\n",
       "      <td>0</td>\n",
       "      <td>0</td>\n",
       "      <td>...</td>\n",
       "      <td>0</td>\n",
       "      <td>0</td>\n",
       "      <td>0</td>\n",
       "      <td>0</td>\n",
       "      <td>0.0604263</td>\n",
       "      <td>0.00627931</td>\n",
       "      <td>0</td>\n",
       "      <td>0</td>\n",
       "      <td>0.00462839</td>\n",
       "      <td>0</td>\n",
       "    </tr>\n",
       "    <tr>\n",
       "      <th>4</th>\n",
       "      <td>59</td>\n",
       "      <td>1</td>\n",
       "      <td>1</td>\n",
       "      <td>0</td>\n",
       "      <td>0</td>\n",
       "      <td>0</td>\n",
       "      <td>0</td>\n",
       "      <td>0</td>\n",
       "      <td>0</td>\n",
       "      <td>0</td>\n",
       "      <td>...</td>\n",
       "      <td>0</td>\n",
       "      <td>0</td>\n",
       "      <td>0</td>\n",
       "      <td>0</td>\n",
       "      <td>0.0261128</td>\n",
       "      <td>0</td>\n",
       "      <td>0</td>\n",
       "      <td>0</td>\n",
       "      <td>0</td>\n",
       "      <td>0</td>\n",
       "    </tr>\n",
       "  </tbody>\n",
       "</table>\n",
       "<p>5 rows × 1061 columns</p>\n",
       "</div>"
      ],
      "text/plain": [
       "     ID Class Driver Start aa_A Start aa_C Start aa_D Start aa_E Start aa_F  \\\n",
       "0  1713     4      1          0          0          0          0          1   \n",
       "1   891     3      1          0          0          0          0          0   \n",
       "2  2160     4      0          0          0          0          0          0   \n",
       "3   167     7      0          1          0          0          0          0   \n",
       "4    59     1      1          0          0          0          0          0   \n",
       "\n",
       "  Start aa_G Start aa_H  ...        weak        week     western       wide  \\\n",
       "0          0          0  ...           0           0   0.0511493  0.0100835   \n",
       "1          1          0  ...  0.00794447           0   0.0212645          0   \n",
       "2          0          0  ...           0  0.00536207  0.00391889          0   \n",
       "3          0          0  ...           0           0           0          0   \n",
       "4          0          0  ...           0           0           0          0   \n",
       "\n",
       "         wild       woman work xenograft        year yeast  \n",
       "0    0.193097           0    0         0           0     0  \n",
       "1  0.00221964  0.00461315    0         0  0.00680057     0  \n",
       "2   0.0372246           0    0         0           0     0  \n",
       "3   0.0604263  0.00627931    0         0  0.00462839     0  \n",
       "4   0.0261128           0    0         0           0     0  \n",
       "\n",
       "[5 rows x 1061 columns]"
      ]
     },
     "execution_count": 163,
     "metadata": {},
     "output_type": "execute_result"
    }
   ],
   "source": [
    "X_train.head()"
   ]
  },
  {
   "cell_type": "code",
   "execution_count": null,
   "metadata": {},
   "outputs": [],
   "source": []
  },
  {
   "cell_type": "markdown",
   "metadata": {},
   "source": [
    "# Creating a Stacked Model"
   ]
  },
  {
   "cell_type": "code",
   "execution_count": 332,
   "metadata": {},
   "outputs": [],
   "source": [
    "# code adapted from https://www.analyticsvidhya.com/blog/2018/06/comprehensive-guide-for-ensemble-models/\n",
    "\n",
    "def Stacking(model,train,y,test, n_fold):\n",
    "    print(train.shape, y.shape, test.shape)\n",
    "    folds=StratifiedKFold(n_splits=n_fold,random_state=1)\n",
    "    test_pred=np.empty((test.shape[0],1),int)\n",
    "    y_truth = np.empty((test.shape[0],1),int)\n",
    "    print(test_pred.shape)\n",
    "    train_pred=np.empty((0,1),float)\n",
    "    for train_indices,val_indices in folds.split(train,y):\n",
    "        x_train,x_val=train.iloc[train_indices],train.iloc[val_indices]\n",
    "        y_train,y_val=y.iloc[train_indices],y.iloc[val_indices]\n",
    "\n",
    "        model.fit(X=x_train,y=y_train)\n",
    "        train_pred=np.append(train_pred,model.predict(x_val))\n",
    "        \n",
    "\n",
    "    test_pred=np.append(test_pred,model.predict(test))\n",
    "#         y_truth =np.append(y_truth, test['Class'])\n",
    "    print(test_pred.shape)\n",
    "#         print(y_truth.shape)\n",
    "    return test_pred[test.shape[0]:].reshape(-1,1),train_pred, y_truth[test.shape[0]:]"
   ]
  },
  {
   "cell_type": "code",
   "execution_count": 333,
   "metadata": {},
   "outputs": [
    {
     "name": "stdout",
     "output_type": "stream",
     "text": [
      "(5202, 1061) (5202,) (2583, 1061)\n",
      "(2583, 1)\n"
     ]
    },
    {
     "name": "stderr",
     "output_type": "stream",
     "text": [
      "C:\\Users\\scojo\\Anaconda3\\lib\\site-packages\\sklearn\\ensemble\\forest.py:246: FutureWarning: The default value of n_estimators will change from 10 in version 0.20 to 100 in 0.22.\n",
      "  \"10 in version 0.20 to 100 in 0.22.\", FutureWarning)\n"
     ]
    },
    {
     "name": "stdout",
     "output_type": "stream",
     "text": [
      "(5166,)\n"
     ]
    }
   ],
   "source": [
    "model1 = RandomForestClassifier()\n",
    "\n",
    "test_pred1 ,train_pred1, y_truth=Stacking(model=model1,n_fold=5, train=X_train,test=X_test,y=y_train[0])\n",
    "\n",
    "train_pred1=pd.DataFrame(train_pred1)\n",
    "                                 \n",
    "test_pred1=pd.DataFrame(test_pred1)\n",
    "\n",
    "# y_truth1 =pd.DataFrame(y_truth1)"
   ]
  },
  {
   "cell_type": "code",
   "execution_count": null,
   "metadata": {
    "scrolled": true
   },
   "outputs": [],
   "source": [
    "from sklearn.svm import SVC\n",
    "model2 = SVC(kernel = 'linear')\n",
    "\n",
    "test_pred2 ,train_pred2, y_truth=Stacking(model=model2,n_fold=5,train=X_train,test=X_test,y=y_train[0])\n",
    "\n",
    "train_pred2=pd.DataFrame(train_pred2)\n",
    "test_pred2=pd.DataFrame(test_pred2)\n"
   ]
  },
  {
   "cell_type": "code",
   "execution_count": 334,
   "metadata": {
    "scrolled": true
   },
   "outputs": [
    {
     "name": "stdout",
     "output_type": "stream",
     "text": [
      "(5202, 1061) (5202,) (2583, 1061)\n",
      "(2583, 1)\n",
      "(5166,)\n"
     ]
    }
   ],
   "source": [
    "from sklearn.neighbors import KNeighborsClassifier\n",
    "\n",
    "#create a new logistic regression model\n",
    "model3 =  KNeighborsClassifier()\n",
    "\n",
    "test_pred3 ,train_pred3, y_truth=Stacking(model=model3,n_fold=5,train=X_train,test=X_test,y=y_train[0])\n",
    "\n",
    "train_pred3=pd.DataFrame(train_pred3)\n",
    "test_pred3=pd.DataFrame(test_pred3)\n",
    "# y_truth3=pd.DataFrame(y_truth3)"
   ]
  },
  {
   "cell_type": "code",
   "execution_count": null,
   "metadata": {},
   "outputs": [
    {
     "name": "stdout",
     "output_type": "stream",
     "text": [
      "(5202, 1061) (5202,) (2583, 1061)\n",
      "(2583, 1)\n"
     ]
    }
   ],
   "source": [
    "from sklearn.ensemble import GradientBoostingClassifier\n",
    "model4= GradientBoostingClassifier(learning_rate=0.01,random_state=1)\n",
    "\n",
    "test_pred4 ,train_pred4, y_truth=Stacking(model=model4,n_fold=5,train=X_train,test=X_test,y=y_train[0])\n",
    "\n",
    "train_pred4=pd.DataFrame(train_pred4)\n",
    "test_pred4=pd.DataFrame(test_pred4)"
   ]
  },
  {
   "cell_type": "code",
   "execution_count": null,
   "metadata": {},
   "outputs": [],
   "source": [
    "from sklearn.linear_model import LogisticRegression\n",
    "#create a new logistic regression model\n",
    "model5 = LogisticRegression()\n",
    "\n",
    "test_pred5 ,train_pred5, y_truth=Stacking(model=model5,n_fold=5,train=X_train,test=X_test,y=y_train[0])\n",
    "\n",
    "train_pred5=pd.DataFrame(train_pred5)\n",
    "test_pred5=pd.DataFrame(test_pred5)"
   ]
  },
  {
   "cell_type": "code",
   "execution_count": null,
   "metadata": {},
   "outputs": [],
   "source": [
    "\n",
    "model6 = DecisionTreeClassifier()\n",
    "\n",
    "test_pred6 ,train_pred6, y_truth=Stacking(model=model6,n_fold=5,train=X_train,test=X_test,y=y_train[0])\n",
    "\n",
    "train_pred6=pd.DataFrame(train_pred6)\n",
    "test_pred6=pd.DataFrame(test_pred6)"
   ]
  },
  {
   "cell_type": "code",
   "execution_count": null,
   "metadata": {},
   "outputs": [],
   "source": [
    "# create data for second level classifier\n",
    "\n",
    "df = pd.concat([train_pred6,train_pred5,train_pred2,  train_pred3], axis=1)\n",
    "df_test = pd.concat([test_pred6,test_pred5,test_pred2, test_pred3], axis=1)\n",
    "# df_test_truth = pd.concat([y_truth1, y_truth3], axis=1)\n",
    "\n"
   ]
  },
  {
   "cell_type": "code",
   "execution_count": null,
   "metadata": {},
   "outputs": [],
   "source": [
    "from sklearn.tree import DecisionTreeClassifier\n",
    "model = GradientBoostingClassifier(learning_rate=0.01,random_state=1)\n",
    "model.fit(df,y_train[0])\n",
    "\n"
   ]
  },
  {
   "cell_type": "code",
   "execution_count": null,
   "metadata": {},
   "outputs": [],
   "source": []
  },
  {
   "cell_type": "code",
   "execution_count": null,
   "metadata": {},
   "outputs": [],
   "source": [
    "y_true, y_pred = (y_truth.astype(int), model.predict(df_test))"
   ]
  },
  {
   "cell_type": "code",
   "execution_count": null,
   "metadata": {},
   "outputs": [],
   "source": [
    "y_pred =y_pred.astype(int)"
   ]
  },
  {
   "cell_type": "markdown",
   "metadata": {},
   "source": [
    "# evaluate stacking model"
   ]
  },
  {
   "cell_type": "code",
   "execution_count": null,
   "metadata": {},
   "outputs": [],
   "source": [
    "accuracy_score(y_true, y_pred)"
   ]
  },
  {
   "cell_type": "code",
   "execution_count": null,
   "metadata": {},
   "outputs": [],
   "source": [
    "from sklearn.metrics import confusion_matrix\n",
    "skplt.plot_confusion_matrix(y_true, y_pred)"
   ]
  },
  {
   "cell_type": "code",
   "execution_count": null,
   "metadata": {},
   "outputs": [],
   "source": [
    "from sklearn.metrics import classification_report\n",
    "print(classification_report(y_true, y_pred))"
   ]
  },
  {
   "cell_type": "code",
   "execution_count": null,
   "metadata": {},
   "outputs": [],
   "source": [
    "from sklearn.metrics import matthews_corrcoef\n",
    "matthews_corrcoef(y_true, y_pred)"
   ]
  },
  {
   "cell_type": "markdown",
   "metadata": {},
   "source": [
    "# Evaluating each component model for accuracy"
   ]
  },
  {
   "cell_type": "code",
   "execution_count": null,
   "metadata": {},
   "outputs": [],
   "source": []
  },
  {
   "cell_type": "code",
   "execution_count": 319,
   "metadata": {
    "scrolled": false
   },
   "outputs": [
    {
     "name": "stdout",
     "output_type": "stream",
     "text": [
      "Random Forest\n",
      "0.35849787069299266\n"
     ]
    },
    {
     "name": "stderr",
     "output_type": "stream",
     "text": [
      "C:\\Users\\scojo\\Anaconda3\\lib\\site-packages\\sklearn\\utils\\deprecation.py:77: DeprecationWarning: Function plot_confusion_matrix is deprecated; This will be removed in v0.4.0. Please use scikitplot.metrics.plot_confusion_matrix instead.\n",
      "  warnings.warn(msg, category=DeprecationWarning)\n",
      "C:\\Users\\scojo\\Anaconda3\\lib\\site-packages\\matplotlib\\cbook\\__init__.py:424: MatplotlibDeprecationWarning: \n",
      "Passing one of 'on', 'true', 'off', 'false' as a boolean is deprecated; use an actual boolean (True/False) instead.\n",
      "  warn_deprecated(\"2.2\", \"Passing one of 'on', 'true', 'off', 'false' as a \"\n"
     ]
    },
    {
     "name": "stdout",
     "output_type": "stream",
     "text": [
      "SVM\n",
      "1.0\n"
     ]
    },
    {
     "name": "stderr",
     "output_type": "stream",
     "text": [
      "C:\\Users\\scojo\\Anaconda3\\lib\\site-packages\\sklearn\\utils\\deprecation.py:77: DeprecationWarning: Function plot_confusion_matrix is deprecated; This will be removed in v0.4.0. Please use scikitplot.metrics.plot_confusion_matrix instead.\n",
      "  warnings.warn(msg, category=DeprecationWarning)\n",
      "C:\\Users\\scojo\\Anaconda3\\lib\\site-packages\\matplotlib\\cbook\\__init__.py:424: MatplotlibDeprecationWarning: \n",
      "Passing one of 'on', 'true', 'off', 'false' as a boolean is deprecated; use an actual boolean (True/False) instead.\n",
      "  warn_deprecated(\"2.2\", \"Passing one of 'on', 'true', 'off', 'false' as a \"\n"
     ]
    },
    {
     "name": "stdout",
     "output_type": "stream",
     "text": [
      "KNN\n",
      "0.5462640340689121\n"
     ]
    },
    {
     "name": "stderr",
     "output_type": "stream",
     "text": [
      "C:\\Users\\scojo\\Anaconda3\\lib\\site-packages\\sklearn\\utils\\deprecation.py:77: DeprecationWarning: Function plot_confusion_matrix is deprecated; This will be removed in v0.4.0. Please use scikitplot.metrics.plot_confusion_matrix instead.\n",
      "  warnings.warn(msg, category=DeprecationWarning)\n",
      "C:\\Users\\scojo\\Anaconda3\\lib\\site-packages\\matplotlib\\cbook\\__init__.py:424: MatplotlibDeprecationWarning: \n",
      "Passing one of 'on', 'true', 'off', 'false' as a boolean is deprecated; use an actual boolean (True/False) instead.\n",
      "  warn_deprecated(\"2.2\", \"Passing one of 'on', 'true', 'off', 'false' as a \"\n"
     ]
    },
    {
     "name": "stdout",
     "output_type": "stream",
     "text": [
      "Gradient Boost\n",
      "1.0\n"
     ]
    },
    {
     "name": "stderr",
     "output_type": "stream",
     "text": [
      "C:\\Users\\scojo\\Anaconda3\\lib\\site-packages\\sklearn\\utils\\deprecation.py:77: DeprecationWarning: Function plot_confusion_matrix is deprecated; This will be removed in v0.4.0. Please use scikitplot.metrics.plot_confusion_matrix instead.\n",
      "  warnings.warn(msg, category=DeprecationWarning)\n",
      "C:\\Users\\scojo\\Anaconda3\\lib\\site-packages\\matplotlib\\cbook\\__init__.py:424: MatplotlibDeprecationWarning: \n",
      "Passing one of 'on', 'true', 'off', 'false' as a boolean is deprecated; use an actual boolean (True/False) instead.\n",
      "  warn_deprecated(\"2.2\", \"Passing one of 'on', 'true', 'off', 'false' as a \"\n"
     ]
    },
    {
     "name": "stdout",
     "output_type": "stream",
     "text": [
      "Logistic Regression\n",
      "0.5915602013162988\n"
     ]
    },
    {
     "name": "stderr",
     "output_type": "stream",
     "text": [
      "C:\\Users\\scojo\\Anaconda3\\lib\\site-packages\\sklearn\\utils\\deprecation.py:77: DeprecationWarning: Function plot_confusion_matrix is deprecated; This will be removed in v0.4.0. Please use scikitplot.metrics.plot_confusion_matrix instead.\n",
      "  warnings.warn(msg, category=DeprecationWarning)\n",
      "C:\\Users\\scojo\\Anaconda3\\lib\\site-packages\\matplotlib\\cbook\\__init__.py:424: MatplotlibDeprecationWarning: \n",
      "Passing one of 'on', 'true', 'off', 'false' as a boolean is deprecated; use an actual boolean (True/False) instead.\n",
      "  warn_deprecated(\"2.2\", \"Passing one of 'on', 'true', 'off', 'false' as a \"\n"
     ]
    },
    {
     "data": {
      "text/plain": [
       "<matplotlib.axes._subplots.AxesSubplot at 0x25a89d059e8>"
      ]
     },
     "execution_count": 319,
     "metadata": {},
     "output_type": "execute_result"
    },
    {
     "data": {
      "image/png": "[encoded data removed]",
      "text/plain": [
       "<Figure size 432x288 with 2 Axes>"
      ]
     },
     "metadata": {
      "needs_background": "light"
     },
     "output_type": "display_data"
    },
    {
     "data": {
      "image/png": "[encoded data removed]",
      "text/plain": [
       "<Figure size 432x288 with 2 Axes>"
      ]
     },
     "metadata": {
      "needs_background": "light"
     },
     "output_type": "display_data"
    },
    {
     "data": {
      "image/png": "[encoded data removed]",
      "text/plain": [
       "<Figure size 432x288 with 2 Axes>"
      ]
     },
     "metadata": {
      "needs_background": "light"
     },
     "output_type": "display_data"
    },
    {
     "data": {
      "image/png": "[encoded data removed]",
      "text/plain": [
       "<Figure size 432x288 with 2 Axes>"
      ]
     },
     "metadata": {
      "needs_background": "light"
     },
     "output_type": "display_data"
    },
    {
     "data": {
      "image/png": "[encoded data removed]",
      "text/plain": [
       "<Figure size 432x288 with 2 Axes>"
      ]
     },
     "metadata": {
      "needs_background": "light"
     },
     "output_type": "display_data"
    }
   ],
   "source": [
    "\n",
    "y_true1, y_pred1 = (y_test, model1.predict(X_test))\n",
    "print('Random Forest')\n",
    "print(accuracy_score(y_true1, y_pred1))\n",
    "skplt.plot_confusion_matrix(y_true1, y_pred1)\n",
    "y_true2, y_pred2 = (y_test, model2.predict(X_test))\n",
    "print('SVM')\n",
    "print(accuracy_score(y_true2, y_pred2))\n",
    "skplt.plot_confusion_matrix(y_true2, y_pred2)\n",
    "y_true3, y_pred3 = (y_test, model3.predict(X_test))\n",
    "print('KNN')\n",
    "print(accuracy_score(y_true3, y_pred3))\n",
    "skplt.plot_confusion_matrix(y_true3, y_pred3)\n",
    "y_true4, y_pred4 = (y_test, model4.predict(X_test))\n",
    "print('Gradient Boost')\n",
    "print(accuracy_score(y_true4, y_pred4))\n",
    "skplt.plot_confusion_matrix(y_true4, y_pred4)\n",
    "y_true5, y_pred5 = (y_test, model5.predict(X_test))\n",
    "print('Logistic Regression')\n",
    "print(accuracy_score(y_true5, y_pred5))\n",
    "skplt.plot_confusion_matrix(y_true5, y_pred5)\n"
   ]
  },
  {
   "cell_type": "code",
   "execution_count": null,
   "metadata": {},
   "outputs": [],
   "source": []
  },
  {
   "cell_type": "code",
   "execution_count": 318,
   "metadata": {},
   "outputs": [
    {
     "name": "stdout",
     "output_type": "stream",
     "text": [
      "rf: 0.35849787069299266\n",
      "knn: 0.5462640340689121\n",
      "svc: 1.0\n",
      "gradiant boost: 1.0\n",
      "log_reg: 0.5915602013162988\n",
      "dt: 1.0\n"
     ]
    }
   ],
   "source": [
    "#test the three models with the test data and print their accuracy scores\n",
    "print('rf: {}'.format(model1.score(X_test, y_test)))\n",
    "print('knn: {}'.format(model3.score(X_test, y_test)))\n",
    "print('svc: {}'.format(model2.score(X_test, y_test)))\n",
    "print('gradiant boost: {}'.format(model4.score(X_test, y_test)))\n",
    "print('log_reg: {}'.format(model5.score(X_test, y_test)))\n",
    "print('dt: {}'.format(model6.score(X_test, y_test)))"
   ]
  },
  {
   "cell_type": "code",
   "execution_count": null,
   "metadata": {},
   "outputs": [],
   "source": []
  }
 ],
 "metadata": {
  "kernelspec": {
   "display_name": "Python 3",
   "language": "python",
   "name": "python3"
  },
  "language_info": {
   "codemirror_mode": {
    "name": "ipython",
    "version": 3
   },
   "file_extension": ".py",
   "mimetype": "text/x-python",
   "name": "python",
   "nbconvert_exporter": "python",
   "pygments_lexer": "ipython3",
   "version": "3.7.3"
  }
 },
 "nbformat": 4,
 "nbformat_minor": 2
}
